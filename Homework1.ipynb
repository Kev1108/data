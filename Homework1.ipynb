{
 "cells": [
  {
   "cell_type": "markdown",
   "metadata": {},
   "source": [
    "<div style=\"text-align:right;color:navy\">Machine Learning, Data Science Review &nbsp;  &nbsp;  &nbsp; October 22, 2021</div>"
   ]
  },
  {
   "cell_type": "markdown",
   "metadata": {},
   "source": [
    "# Machine Learning   &nbsp; &nbsp; <span style=\"font-size:20px; color:red\">Homework 1 &nbsp; &nbsp; Due 2021/10/29</span>\n",
    "\n",
    "&nbsp; <br />\n",
    "在 Problem Set 4 中，我們使用 to_csv 儲存程式中產生的資料，存在 csv 檔案中，所以在人氣飲品的販賣機中，我們不只可以把銷售數量在程式中更新，其實可以在結束程式後，仍然可以記住銷售數量，如果再執行程式，也可以繼續累計並更新最新的銷售數據!!\n",
    "\n",
    "所以這個作業可以分成三個部分 : \n",
    "\n",
    "    1. 銷售的介面，就是顧客所看到的 Menu 畫面，可以購買飲品 (Problem Set 1 的 Problem 1.7)，不過這個部分請同學再加上能讓顧客選擇杯數的功能，最多買4杯 (也就是再加上 Problem 2.2)。\n",
    "\n",
    "    2. 第二部分的程式必須跟第一部分寫在一起，但是不顯示，所以顧客並不會看到。首先，必須先建一個 csv 檔，這次除了飲品名稱、價格之外，我們只需一個銷售數量的欄位，一開始可以是 0(Problem Set 4 的 Problem 2)，當顧客完成購買(第一部分)，接著必須要讀入銷售數量的 csv 檔，然後更新銷售數量，再更新銷售數量的 csv 檔!! 覆寫原來的 csv 檔時須注意是否建立 index!! \n",
    "    \n",
    "    3. 第三個部分是老闆用來查閱的程式，跟前面的部份可以是各自獨立，就是讀取 csv 即可!!\n"
   ]
  },
  {
   "cell_type": "code",
   "execution_count": 1,
   "metadata": {
    "scrolled": true
   },
   "outputs": [
    {
     "name": "stdout",
     "output_type": "stream",
     "text": [
      "Our popular drinks, welcome to buy:\n",
      "1 Pearl milk tea ...NTD 50\n",
      "2 Jasmine Green Tea ...NTD 35\n",
      "3 Frozen Lemon Tea ...NTD 40\n",
      "4 Kumquat Lemon ...NTD 45\n",
      "Which drink do you want to buy? Please choose 1, 2, 3, 4: 1\n",
      "Quantity: 4\n",
      "You selected 4 Pearl milk tea total: 200 NTD\n",
      "please insert your payment(1NTD coins not recieved.): 500\n",
      "You pay: 500 NTD. Change: 300 NTD. Thanks for your purchase!. Have a Good One!!!\n"
     ]
    }
   ],
   "source": [
    "# Homework 1\n",
    "import pandas as pd \n",
    "data=pd.read_csv('teaSales.csv')\n",
    "menu= data['Tea']\n",
    "prices=data['Price']\n",
    "print(\"Our popular drinks, welcome to buy:\")\n",
    "for i in range(len(menu)):\n",
    "    print(i+1,menu[i],\"...NTD\",prices[i])\n",
    "choice,amount=int(input(\"Which drink do you want to buy? Please choose 1, 2, 3, 4: \"))-1,int(input(\"Quantity: \"))\n",
    "total=amount*prices[choice]\n",
    "print(\"You selected\",amount,menu[choice],\"total:\",total,\"NTD\") \n",
    "payment= int(input('please insert your payment(1NTD coins not recieved.): '))\n",
    "if payment<total or payment%5!= 0:\n",
    "    print('not enough or amount not valid. Refund:',payment)\n",
    "else :\n",
    "    print('You pay:',payment,'NTD.','Change:',payment-total,'NTD. Thanks for your purchase!. Have a Good One!!!')\n",
    "    data.at[choice,'Sales']+=total\n",
    "    data.to_csv('teaSales.csv',index=False,encoding='utf-8')\n",
    "    \n",
    "    \n",
    "    "
   ]
  },
  {
   "cell_type": "code",
   "execution_count": 2,
   "metadata": {
    "scrolled": false
   },
   "outputs": [
    {
     "data": {
      "text/html": [
       "<div>\n",
       "<style scoped>\n",
       "    .dataframe tbody tr th:only-of-type {\n",
       "        vertical-align: middle;\n",
       "    }\n",
       "\n",
       "    .dataframe tbody tr th {\n",
       "        vertical-align: top;\n",
       "    }\n",
       "\n",
       "    .dataframe thead th {\n",
       "        text-align: right;\n",
       "    }\n",
       "</style>\n",
       "<table border=\"1\" class=\"dataframe\">\n",
       "  <thead>\n",
       "    <tr style=\"text-align: right;\">\n",
       "      <th></th>\n",
       "      <th>Tea</th>\n",
       "      <th>Price</th>\n",
       "      <th>Sales</th>\n",
       "    </tr>\n",
       "  </thead>\n",
       "  <tbody>\n",
       "    <tr>\n",
       "      <th>0</th>\n",
       "      <td>Pearl milk tea</td>\n",
       "      <td>50</td>\n",
       "      <td>200</td>\n",
       "    </tr>\n",
       "    <tr>\n",
       "      <th>1</th>\n",
       "      <td>Jasmine Green Tea</td>\n",
       "      <td>35</td>\n",
       "      <td>70</td>\n",
       "    </tr>\n",
       "    <tr>\n",
       "      <th>2</th>\n",
       "      <td>Frozen Lemon Tea</td>\n",
       "      <td>40</td>\n",
       "      <td>0</td>\n",
       "    </tr>\n",
       "    <tr>\n",
       "      <th>3</th>\n",
       "      <td>Kumquat Lemon</td>\n",
       "      <td>45</td>\n",
       "      <td>45</td>\n",
       "    </tr>\n",
       "  </tbody>\n",
       "</table>\n",
       "</div>"
      ],
      "text/plain": [
       "                 Tea  Price  Sales\n",
       "0     Pearl milk tea     50    200\n",
       "1  Jasmine Green Tea     35     70\n",
       "2   Frozen Lemon Tea     40      0\n",
       "3      Kumquat Lemon     45     45"
      ]
     },
     "execution_count": 2,
     "metadata": {},
     "output_type": "execute_result"
    }
   ],
   "source": [
    "\n",
    "sales= pd.read_csv('teaSales.csv')\n",
    "sales\n"
   ]
  },
  {
   "cell_type": "code",
   "execution_count": null,
   "metadata": {},
   "outputs": [],
   "source": []
  }
 ],
 "metadata": {
  "kernelspec": {
   "display_name": "Python 3 (ipykernel)",
   "language": "python",
   "name": "python3"
  },
  "language_info": {
   "codemirror_mode": {
    "name": "ipython",
    "version": 3
   },
   "file_extension": ".py",
   "mimetype": "text/x-python",
   "name": "python",
   "nbconvert_exporter": "python",
   "pygments_lexer": "ipython3",
   "version": "3.9.7"
  }
 },
 "nbformat": 4,
 "nbformat_minor": 2
}
