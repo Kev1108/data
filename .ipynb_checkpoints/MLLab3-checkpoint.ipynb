{
 "cells": [
  {
   "cell_type": "markdown",
   "metadata": {},
   "source": [
    "<div style=\"text-align:right;color:navy\">Machine Learning & Data Analysis &nbsp;  &nbsp;  &nbsp; November 26, 2021</div>"
   ]
  },
  {
   "cell_type": "markdown",
   "metadata": {},
   "source": [
    "# Machine Learning &nbsp; &nbsp; \n",
    "\n",
    "##  Lab 3 & Problems\n",
    "\n",
    "\n",
    "我們在 MLLab 1 中介紹了 Iris Dataset 以及使用 KNN (K-Nearest Neighbors) 來訓練一個 Model，KNN 是一個分類器 (KNeighborsClassifier)，適用於需要做分類型態的問題，例如 Iris 問題就是以花萼花瓣的長寬來做3個品種的分類。這一個 Lab 我們先介紹另一個可用來分類的 Model : Logistic Regression，依然使用 Iris Dataset 來執行。\n",
    "\n",
    "所以對於 Iris 這個問題我們就會有多個 Model，自然而然地我們想要知道這些不同 Models 的\"準確度\"! 其實在 KNN 中不同的 n_neighbors 參數的設定也會得到不同的 Model，Logistic Regression 也有相同的情況! 在這個 Lab 的第二部分，我們要測試一下我們所找到的 Model 是否夠準確 :"
   ]
  },
  {
   "cell_type": "markdown",
   "metadata": {},
   "source": [
    "## Train & Test the Iris Dataset"
   ]
  },
  {
   "cell_type": "markdown",
   "metadata": {},
   "source": [
    "#### 訓練 Model\n",
    "\n",
    "在 MLLab1 中我們使用了幾個步驟來完成 Model 的訓練，簡單的摘要如下 :\n",
    "\n",
    "\n",
    "##### Step 0: 匯入資料\n",
    "匯入資料的部分是訓練每一個 Model 之前都要做的(相同)的工作，不因不同的 Model 而有變化，所以設定為 step 0，其中我們主要是要得到 \"data\" 跟 \"target\"。以 Iris 為例，data 就是每一個Sample的花萼花瓣的長寬那4個數據，target 的是相對應於那4個數據的鳶尾花品種(以 0、1、2代表)。\n",
    "##### Step 1: 匯入我們想用的  \"class\"\n",
    "Scikit-learn 提供了許多設計好的演算法與模型，有時稱為 Estimator，以程式寫成一個個 class，方便我們使用，訓練成一個 Model。\n",
    "##### Step 2:  建立一個 Model\n",
    "##### Step 3: 使用資料來訓練 Model\n",
    "##### Step 4: 使用 Model 來預測新的 Sample\n",
    "\n",
    "\n",
    "我們再以 Iris Dataset 及 KNN 來執行一次 :"
   ]
  },
  {
   "cell_type": "markdown",
   "metadata": {},
   "source": [
    "##### Step 0: 匯入資料"
   ]
  },
  {
   "cell_type": "code",
   "execution_count": 1,
   "metadata": {},
   "outputs": [],
   "source": [
    "# 匯入 load_iris 函數\n",
    "from sklearn.datasets import load_iris\n",
    "\n",
    "# 取得資料\n",
    "iris = load_iris()\n",
    "\n",
    "# 依慣例，我們以 X 來儲存 data\n",
    "X = iris.data\n",
    "\n",
    "# 以 y 來儲存 target\n",
    "y = iris.target"
   ]
  },
  {
   "cell_type": "markdown",
   "metadata": {},
   "source": [
    "##### Step 1:   匯入我們想用的  class，一開始我們來使用 knn (k-nearest neighbors 最近鄰)"
   ]
  },
  {
   "cell_type": "code",
   "execution_count": 2,
   "metadata": {},
   "outputs": [],
   "source": [
    "from sklearn.neighbors import KNeighborsClassifier"
   ]
  },
  {
   "cell_type": "markdown",
   "metadata": {},
   "source": [
    "##### Step 2:  建立一個 Model"
   ]
  },
  {
   "cell_type": "code",
   "execution_count": 3,
   "metadata": {},
   "outputs": [],
   "source": [
    "# 參數設定為 1\n",
    "\n",
    "knn = KNeighborsClassifier(n_neighbors=1)"
   ]
  },
  {
   "cell_type": "markdown",
   "metadata": {},
   "source": [
    "##### Step 3: 使用資料來訓練 Model"
   ]
  },
  {
   "cell_type": "code",
   "execution_count": 4,
   "metadata": {},
   "outputs": [
    {
     "data": {
      "text/plain": [
       "KNeighborsClassifier(n_neighbors=1)"
      ]
     },
     "execution_count": 4,
     "metadata": {},
     "output_type": "execute_result"
    }
   ],
   "source": [
    "knn.fit(X, y)"
   ]
  },
  {
   "cell_type": "markdown",
   "metadata": {},
   "source": [
    "##### Step 4: 使用 Model 來預測新的 Sample"
   ]
  },
  {
   "cell_type": "code",
   "execution_count": 5,
   "metadata": {},
   "outputs": [
    {
     "data": {
      "text/plain": [
       "array([2])"
      ]
     },
     "execution_count": 5,
     "metadata": {},
     "output_type": "execute_result"
    }
   ],
   "source": [
    "knn.predict([[3, 5, 4, 2]])"
   ]
  },
  {
   "cell_type": "code",
   "execution_count": 6,
   "metadata": {},
   "outputs": [
    {
     "data": {
      "text/plain": [
       "array([2, 1])"
      ]
     },
     "execution_count": 6,
     "metadata": {},
     "output_type": "execute_result"
    }
   ],
   "source": [
    "# 可以一次預測多個 Sample\n",
    "\n",
    "X_new = [[3, 5, 4, 2], [5, 4, 3, 2]]\n",
    "knn.predict(X_new)"
   ]
  },
  {
   "cell_type": "markdown",
   "metadata": {},
   "source": [
    "## Using a different value for K\n",
    "\n",
    "在前面的 step 2 中，可以設定不同的 n_neighbors，3、5 或 7 ...，會得到不同的 Model，所以預測(Predict)的結果可能不同!!\n",
    "\n"
   ]
  },
  {
   "cell_type": "markdown",
   "metadata": {},
   "source": [
    "**Exercise 1** 請同學試試 n_neighbors = 3 或 n_neighbors = 5 來執行前面的幾個步驟"
   ]
  },
  {
   "cell_type": "code",
   "execution_count": 7,
   "metadata": {},
   "outputs": [
    {
     "data": {
      "text/plain": [
       "array([1, 1])"
      ]
     },
     "execution_count": 7,
     "metadata": {},
     "output_type": "execute_result"
    }
   ],
   "source": [
    "# Exercise 1\n",
    "\n",
    "# knn 的 k 是 knn 演算法中的一個參數，也可以使用不同的 k : k=3 或 k=5\n",
    "\n",
    "# 請先執行 Step 0\n",
    "\n",
    "# Step 1   import the class\n",
    "from sklearn.neighbors import KNeighborsClassifier\n",
    "\n",
    "# Step 2    using the value K=3 or K=5\n",
    "knn = KNeighborsClassifier(n_neighbors=5)\n",
    "\n",
    "# Step 3  fit the model with data\n",
    "knn.fit(X, y)\n",
    "\n",
    "# Step 4   prediction for new sample\n",
    "knn.predict(X_new)"
   ]
  },
  {
   "cell_type": "markdown",
   "metadata": {},
   "source": [
    "## Logistic Regression -- Using a different classification model\n",
    "\n",
    "請參考 [LogisticRegression](https://scikit-learn.org/stable/modules/generated/sklearn.linear_model.LogisticRegression.html)"
   ]
  },
  {
   "cell_type": "code",
   "execution_count": 8,
   "metadata": {},
   "outputs": [
    {
     "name": "stderr",
     "output_type": "stream",
     "text": [
      "/opt/homebrew/Caskroom/miniforge/base/envs/kevad/lib/python3.9/site-packages/sklearn/linear_model/_logistic.py:814: ConvergenceWarning: lbfgs failed to converge (status=1):\n",
      "STOP: TOTAL NO. of ITERATIONS REACHED LIMIT.\n",
      "\n",
      "Increase the number of iterations (max_iter) or scale the data as shown in:\n",
      "    https://scikit-learn.org/stable/modules/preprocessing.html\n",
      "Please also refer to the documentation for alternative solver options:\n",
      "    https://scikit-learn.org/stable/modules/linear_model.html#logistic-regression\n",
      "  n_iter_i = _check_optimize_result(\n"
     ]
    },
    {
     "data": {
      "text/plain": [
       "array([0, 0])"
      ]
     },
     "execution_count": 8,
     "metadata": {},
     "output_type": "execute_result"
    }
   ],
   "source": [
    "# 除了 knn 也可以使用其他的方式 : 這裡以 Logistic Regression 為例\n",
    "\n",
    "# 請先執行 Step 0\n",
    "\n",
    "# Step 1 import the class\n",
    "from sklearn.linear_model import LogisticRegression\n",
    "\n",
    "# Step 2 \n",
    "logreg = LogisticRegression()\n",
    "\n",
    "# Step 3   fit the model\n",
    "logreg.fit(X, y)\n",
    "\n",
    "# Step 4   prediction for new sample\n",
    "logreg.predict(X_new)"
   ]
  },
  {
   "cell_type": "markdown",
   "metadata": {},
   "source": [
    "執行上面的程式時可能出現這個 Warning :\n",
    "\n",
    "    ConvergenceWarning: lbfgs failed to converge (status=1):\n",
    "    STOP: TOTAL NO. of ITERATIONS REACHED LIMIT.\n",
    "    \n",
    "可以調整 max_iter 這個參數試試 (預設值是 100): \n",
    "\n",
    "    LogisticRegression(max_iter = 200)"
   ]
  },
  {
   "cell_type": "markdown",
   "metadata": {},
   "source": [
    "\n",
    "\n",
    "## 計算準確度\n",
    "\n",
    "接著我們來看看準確度，如果我們使用原來 Iris 的 150 個 samples 來做 predict，應該會\"狠準\"!! 我們就是將這 150 個 samples 做 predict，然後跟原來的 target 做比較，看答對的比例!!"
   ]
  },
  {
   "cell_type": "code",
   "execution_count": 14,
   "metadata": {},
   "outputs": [],
   "source": [
    "# 如果使用 train data (原來的 150 samples) 來做 predict (test)，應該要狠準!!\n",
    "\n",
    "# 請先執行 Step 0\n",
    "\n",
    "# Step 1  import the class\n",
    "from sklearn.linear_model import LogisticRegression\n",
    "\n",
    "# Step 2  \n",
    "logreg = LogisticRegression(max_iter=150)\n",
    "\n",
    "# Step 3  fit the model\n",
    "logreg.fit(X, y)\n",
    "\n",
    "# Step 4  Test -- prediction for the samples in X\n",
    "y_pred = logreg.predict(X)"
   ]
  },
  {
   "cell_type": "code",
   "execution_count": 15,
   "metadata": {},
   "outputs": [
    {
     "name": "stdout",
     "output_type": "stream",
     "text": [
      "0.9733333333333334\n"
     ]
    }
   ],
   "source": [
    "# 使用 sklearn.metrics 計算準確度\n",
    "# compute classification accuracy\n",
    "\n",
    "from sklearn import metrics\n",
    "print(metrics.accuracy_score(y, y_pred))"
   ]
  },
  {
   "cell_type": "markdown",
   "metadata": {},
   "source": [
    "上面我們使用了 metrics 的 accuracy_score 函數來做準確度地確認，可以參考 scikit learn 的 metrics 說明\n",
    "\n",
    "https://scikit-learn.org/stable/modules/classes.html#module-sklearn.metrics"
   ]
  },
  {
   "cell_type": "markdown",
   "metadata": {},
   "source": [
    "上面是以 Logistic Regression 來做 test，請同學試試以 knn 來做\n",
    "\n",
    "**Exercise 2**  請同學以原來的 150 個 Samples 來做 knn 的準確度測試 :"
   ]
  },
  {
   "cell_type": "code",
   "execution_count": 16,
   "metadata": {},
   "outputs": [
    {
     "name": "stdout",
     "output_type": "stream",
     "text": [
      "1.0 0.9666666666666667\n"
     ]
    }
   ],
   "source": [
    "# 計算準確度 \n",
    "# 1. 使用 knn, k = 1\n",
    "# 2. 使用 knn, k = 5 \n",
    "from sklearn import metrics\n",
    "knn_1 = KNeighborsClassifier(n_neighbors=1)\n",
    "knn_2 = KNeighborsClassifier(n_neighbors= 5)\n",
    "\n",
    "knn_1.fit(X,y)\n",
    "knn_2.fit(X,y)\n",
    "\n",
    "y_pred1 = knn_1.predict(X)\n",
    "y_pred2 = knn_2.predict(X)\n",
    "\n",
    "print(metrics.accuracy_score(y,y_pred1),metrics.accuracy_score(y,y_pred2))\n"
   ]
  },
  {
   "cell_type": "markdown",
   "metadata": {},
   "source": [
    "**Exercise 3**  這個問題請同學回到上周的 Problem 1，請同學以原來的 150 個 Samples 來測試同學資己設計的演算法的準確度 :"
   ]
  },
  {
   "cell_type": "code",
   "execution_count": null,
   "metadata": {},
   "outputs": [],
   "source": [
    "# 計算準確度 \n",
    "# 使用你自己在上周的 Problem 1 中的算法 :\n",
    "\n",
    "\n",
    "\n",
    "\n"
   ]
  }
 ],
 "metadata": {
  "kernelspec": {
   "display_name": "Python 3 (ipykernel)",
   "language": "python",
   "name": "python3"
  },
  "language_info": {
   "codemirror_mode": {
    "name": "ipython",
    "version": 3
   },
   "file_extension": ".py",
   "mimetype": "text/x-python",
   "name": "python",
   "nbconvert_exporter": "python",
   "pygments_lexer": "ipython3",
   "version": "3.9.7"
  }
 },
 "nbformat": 4,
 "nbformat_minor": 2
}
