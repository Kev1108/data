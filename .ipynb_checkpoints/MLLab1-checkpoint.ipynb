{
 "cells": [
  {
   "cell_type": "markdown",
   "metadata": {},
   "source": [
    "<div style=\"text-align:right;color:navy\">Machine Learn & Data Analysis &nbsp;  &nbsp;  &nbsp; November 19, 2021</div>"
   ]
  },
  {
   "cell_type": "markdown",
   "metadata": {},
   "source": [
    "# Machine Learning \n",
    "\n",
    "## Lab 1.  The Famous Iris Dataset"
   ]
  },
  {
   "cell_type": "markdown",
   "metadata": {},
   "source": [
    "請參考維基百科的簡單介紹 : \n",
    "<a href=\"https://zh.wikipedia.org/wiki/%E5%AE%89%E5%BE%B7%E6%A3%AE%E9%B8%A2%E5%B0%BE%E8%8A%B1%E5%8D%89%E6%95%B0%E6%8D%AE%E9%9B%86\" target=\"_blank\" >Iris_flower_data_set</a>\n",
    "\n",
    "今天的課程請同學以 Iris 這組資料來練習一下 scikit-learn\n",
    "\n",
    "**問題描述** : Iris 鳶尾花，這一組資料有 150 個樣本，分別屬於鳶尾花的三個品種，每一個樣本有 4 個數據，分別是花瓣(Petal)長、寬跟花萼(Sepal)長、寬。我們需要讓\"機器\"(一個模型)從這150組花瓣跟花萼的長寬數據中\"學習\"，讓這個模型可以從花瓣跟花萼的長寬數據分辨出是哪一個品種。當這個機器學習的夠好時，給他一個新的花瓣跟花萼的長寬數據，機器可以判別出他的品種!!"
   ]
  },
  {
   "cell_type": "markdown",
   "metadata": {},
   "source": [
    "#### 匯入 Iris 資料"
   ]
  },
  {
   "cell_type": "code",
   "execution_count": null,
   "metadata": {},
   "outputs": [],
   "source": [
    "# 從 sklearn.datasets 模組匯入 load_iris 函數 \n",
    "\n",
    "from sklearn.datasets import load_iris"
   ]
  },
  {
   "cell_type": "code",
   "execution_count": null,
   "metadata": {},
   "outputs": [],
   "source": [
    "# 使用 load_iris 函數取得 Iris Dataset\n",
    "\n",
    "iris = load_iris()"
   ]
  },
  {
   "cell_type": "markdown",
   "metadata": {},
   "source": [
    "請同學分別用 type 及 print 函數來看一下資料型態及資料內容 (當匯入資料後，了解資料是第一件要做的事)"
   ]
  },
  {
   "cell_type": "code",
   "execution_count": null,
   "metadata": {},
   "outputs": [],
   "source": [
    "type(iris)"
   ]
  },
  {
   "cell_type": "code",
   "execution_count": null,
   "metadata": {},
   "outputs": [],
   "source": [
    "print(iris)"
   ]
  },
  {
   "cell_type": "markdown",
   "metadata": {},
   "source": [
    "進一步了解這組資料可以參考 load_iris 這個函數的說明 : \n",
    "\n",
    "https://scikit-learn.org/stable/modules/generated/sklearn.datasets.load_iris.html#sklearn.datasets.load_iris\n",
    "\n",
    "上面的 load_iris() 所 return 的 iris 是一個 sklearn.utils.Bunch 物件，Bunch 的資料結構類似 dict，用法也類似。在上面參考文件中提到的這個 return 的部分 :\n",
    "\n",
    "    Dictionary-like object, the interesting attributes are:\n",
    "    \n",
    "    'data', the data to learn, \n",
    "    'target', the classification labels, \n",
    "    'target_names', the meaning of the labels, \n",
    "    'feature_names', the meaning of the features, ...\n",
    "    \n",
    "所以可以特別看一下這幾個 iris 的屬性 : data、target、target_names、feature_names"
   ]
  },
  {
   "cell_type": "code",
   "execution_count": null,
   "metadata": {},
   "outputs": [],
   "source": [
    "# iris.data 是一個 2-d array 共有 150 row(列)、4 column(欄)，每一 row(列)稱為一個 sample，每一欄(column)稱為一個 feature\n",
    "# 每一列中的4個features是4個數字，分別是 Iris 花的花瓣長、寬，花萼長、寬\n",
    "\n",
    "print(iris.data)"
   ]
  },
  {
   "cell_type": "code",
   "execution_count": null,
   "metadata": {},
   "outputs": [],
   "source": [
    "# feature 的名稱\n",
    "\n",
    "print(iris.feature_names)"
   ]
  },
  {
   "cell_type": "code",
   "execution_count": null,
   "metadata": {},
   "outputs": [],
   "source": [
    "# 150 個 0、1 或 2 的數字，代表每一列(sample)的 species(物種)\n",
    "\n",
    "print(iris.target)"
   ]
  },
  {
   "cell_type": "code",
   "execution_count": null,
   "metadata": {},
   "outputs": [],
   "source": [
    "# target 的名稱 0 = setosa, 1 = versicolor, 2 = virginica\n",
    "\n",
    "print(iris.target_names)"
   ]
  },
  {
   "cell_type": "markdown",
   "metadata": {},
   "source": [
    "請同學再檢查幾個性質 : "
   ]
  },
  {
   "cell_type": "code",
   "execution_count": null,
   "metadata": {},
   "outputs": [],
   "source": [
    "# 看看 data 跟 target 的資料型態\n",
    "\n",
    "print(type(iris.data))\n",
    "print(type(iris.target))"
   ]
  },
  {
   "cell_type": "code",
   "execution_count": null,
   "metadata": {},
   "outputs": [],
   "source": [
    "# 看看 data 跟 target 的 Shapes\n",
    "\n",
    "print(iris.data.shape)\n",
    "print(iris.target.shape)"
   ]
  },
  {
   "cell_type": "markdown",
   "metadata": {},
   "source": [
    "#### 訓練 Model\n",
    "\n",
    "這個 Lab 我們使用 sklearn 中的 k-nearest Neighbors Classifier 建立一個 Model，這個 Classifier(分類器) 使用了 Nearest Neighbors Classification 最近鄰的演算方式，請參考\n",
    "\n",
    "Nearest Neighbors Classification : https://scikit-learn.org/stable/modules/neighbors.html#classification\n",
    "\n",
    "kNeighborsClassifier : https://scikit-learn.org/stable/modules/generated/sklearn.neighbors.KNeighborsClassifier.html\n",
    "\n",
    "接著我們就要使用資料來\"訓練一個model\"，為了程式的完整性，我們再一次執行匯入資料 :"
   ]
  },
  {
   "cell_type": "markdown",
   "metadata": {},
   "source": [
    "##### Step 0: 匯入資料"
   ]
  },
  {
   "cell_type": "code",
   "execution_count": null,
   "metadata": {},
   "outputs": [],
   "source": [
    "# 匯入 load_iris 函數\n",
    "from sklearn.datasets import load_iris\n",
    "\n",
    "# 取得資料\n",
    "iris = load_iris()\n",
    "\n",
    "# 依慣例，我們以 X 來儲存 data\n",
    "X = iris.data\n",
    "\n",
    "# 以 y 來儲存 target\n",
    "y = iris.target"
   ]
  },
  {
   "cell_type": "markdown",
   "metadata": {},
   "source": [
    "##### Step 1:   匯入我們想用的  class，一開始我們來使用 knn (k-nearest neighbors 最近鄰) 的分類器  KNeighborsClassifier"
   ]
  },
  {
   "cell_type": "code",
   "execution_count": null,
   "metadata": {},
   "outputs": [],
   "source": [
    "from sklearn.neighbors import KNeighborsClassifier"
   ]
  },
  {
   "cell_type": "markdown",
   "metadata": {},
   "source": [
    "##### Step 2:  建立一個 Model"
   ]
  },
  {
   "cell_type": "code",
   "execution_count": null,
   "metadata": {},
   "outputs": [],
   "source": [
    "# n_neighbors 參數設定為 1 : 只選擇一個最近鄰\n",
    "\n",
    "knn = KNeighborsClassifier(n_neighbors=1)"
   ]
  },
  {
   "cell_type": "code",
   "execution_count": null,
   "metadata": {},
   "outputs": [],
   "source": [
    "# 看看這個 Model\n",
    "\n",
    "print(knn)"
   ]
  },
  {
   "cell_type": "markdown",
   "metadata": {},
   "source": [
    "##### Step 3: 使用資料來訓練 Model"
   ]
  },
  {
   "cell_type": "code",
   "execution_count": null,
   "metadata": {},
   "outputs": [],
   "source": [
    "knn.fit(X, y)"
   ]
  },
  {
   "cell_type": "markdown",
   "metadata": {},
   "source": [
    "##### Step 4: 使用 Model 來預測新的 Sample"
   ]
  },
  {
   "cell_type": "code",
   "execution_count": null,
   "metadata": {},
   "outputs": [],
   "source": [
    "knn.predict([[3, 5, 4, 2]])"
   ]
  },
  {
   "cell_type": "code",
   "execution_count": null,
   "metadata": {},
   "outputs": [],
   "source": [
    "# 可以一次預測多個 Sample\n",
    "\n",
    "X_new = [[3, 5, 4, 2], [5, 4, 3, 2]]\n",
    "knn.predict(X_new)"
   ]
  },
  {
   "cell_type": "markdown",
   "metadata": {},
   "source": [
    "**Problem 1.**\n",
    "k-nearest neighbors 是一種演算法，以 Iris 的資料為例，就是以 150 個 Sample，以 knn 演算法來得到一個 Model，利用這個 Model 來預測新的 Sample，這個 Lab 最後要請同學嘗試做一個自己的演算法 : 利用這 150 個 Sample 來建立你的演算法，可以用來預測新的 Sample 的 target (新Sample 是哪一個 species (0:setosa, 1:versicolor 或 2:virginica)。所以同學不需要像上面的方式做一個 Model，只需要寫一個 predict 的函數，帶入一個新 sample，可以根據那 150 個原來的 samples 做出預測!!\n",
    "\n",
    "例如這些新 Samples : [5.1, 4.1, 3.1, 1.1]、[6.1, 3.1, 2.1, 0.9]、[7.1, 3.5, 3.9, 1.5]"
   ]
  },
  {
   "cell_type": "code",
   "execution_count": null,
   "metadata": {},
   "outputs": [],
   "source": [
    "# Problem 1\n",
    "# 這個問題同學可以先用紙筆來做，想清楚後再試試可否轉成程式\n",
    "\n",
    "# 例如:你可以以平均值來做 :\n",
    "# 1. 利用樣本，計算每一花種的各項均值，接著以平均值的數據來預測。這樣會準嗎?\n",
    "# 2. 計算新資料和步驟1中的「差平方和」(也可以試不同的算法)。\n",
    "# 3. 找出步驟1中的最小的「差平方和」所對應的花種。\n",
    "\n",
    "# 4. 以原來的 150 個 Sample 來計算準確度 (答對率百分比!!)\n",
    "\n",
    "\n",
    "\n",
    "\n",
    "\n",
    "\n",
    "\n",
    "\n",
    "\n",
    "\n"
   ]
  }
 ],
 "metadata": {
  "kernelspec": {
   "display_name": "Python 3 (ipykernel)",
   "language": "python",
   "name": "python3"
  },
  "language_info": {
   "codemirror_mode": {
    "name": "ipython",
    "version": 3
   },
   "file_extension": ".py",
   "mimetype": "text/x-python",
   "name": "python",
   "nbconvert_exporter": "python",
   "pygments_lexer": "ipython3",
   "version": "3.9.7"
  }
 },
 "nbformat": 4,
 "nbformat_minor": 2
}
